{
 "cells": [
  {
   "cell_type": "code",
   "execution_count": 1,
   "metadata": {},
   "outputs": [],
   "source": [
    "import pandas as pd\n",
    "import dtale\n",
    "import polars as pl\n",
    "import os"
   ]
  },
  {
   "cell_type": "code",
   "execution_count": 2,
   "metadata": {},
   "outputs": [],
   "source": [
    "os.chdir('/Users/alexlo/Downloads')"
   ]
  },
  {
   "cell_type": "markdown",
   "metadata": {},
   "source": [
    "# ETL"
   ]
  },
  {
   "cell_type": "code",
   "execution_count": 3,
   "metadata": {},
   "outputs": [],
   "source": [
    "df = pd.read_csv('/Users/alexlo/Downloads/202209_YouBike2.0票證刷卡資料.csv')"
   ]
  },
  {
   "cell_type": "code",
   "execution_count": 4,
   "metadata": {},
   "outputs": [],
   "source": [
    "def ETL_ubike_date(df):\n",
    "    '''\n",
    "    Convert the type \n",
    "    '''\n",
    "    df = df.astype({col: 'datetime64[ns]' for col in ['rent_time', 'return_time', 'infodate']} )\n",
    "    df = df.astype({col: 'category' for col in ['rent_station', 'return_station']} )\n",
    "    df = df.astype({col: 'timedelta64' for col in ['rent']} )\n",
    "    return df\n",
    "df = ETL_ubike_date(df)"
   ]
  },
  {
   "cell_type": "code",
   "execution_count": 5,
   "metadata": {},
   "outputs": [
    {
     "data": {
      "text/html": [
       "<div>\n",
       "<style scoped>\n",
       "    .dataframe tbody tr th:only-of-type {\n",
       "        vertical-align: middle;\n",
       "    }\n",
       "\n",
       "    .dataframe tbody tr th {\n",
       "        vertical-align: top;\n",
       "    }\n",
       "\n",
       "    .dataframe thead th {\n",
       "        text-align: right;\n",
       "    }\n",
       "</style>\n",
       "<table border=\"1\" class=\"dataframe\">\n",
       "  <thead>\n",
       "    <tr style=\"text-align: right;\">\n",
       "      <th></th>\n",
       "      <th>rent_time</th>\n",
       "      <th>rent_station</th>\n",
       "      <th>return_time</th>\n",
       "      <th>return_station</th>\n",
       "      <th>rent</th>\n",
       "      <th>infodate</th>\n",
       "    </tr>\n",
       "  </thead>\n",
       "  <tbody>\n",
       "    <tr>\n",
       "      <th>0</th>\n",
       "      <td>2022-09-30 21:00:00</td>\n",
       "      <td>捷運大湖公園站(2號出口)</td>\n",
       "      <td>2022-09-30 21:00:00</td>\n",
       "      <td>安湖三號公園</td>\n",
       "      <td>0 days 00:12:27</td>\n",
       "      <td>2022-09-30</td>\n",
       "    </tr>\n",
       "    <tr>\n",
       "      <th>1</th>\n",
       "      <td>2022-09-30 21:00:00</td>\n",
       "      <td>捷運大湖公園站(2號出口)</td>\n",
       "      <td>2022-09-30 21:00:00</td>\n",
       "      <td>康寧公園(北側)</td>\n",
       "      <td>0 days 00:12:56</td>\n",
       "      <td>2022-09-30</td>\n",
       "    </tr>\n",
       "    <tr>\n",
       "      <th>2</th>\n",
       "      <td>2022-09-30 21:00:00</td>\n",
       "      <td>捷運大湖公園站(2號出口)</td>\n",
       "      <td>2022-09-30 21:00:00</td>\n",
       "      <td>大湖國小</td>\n",
       "      <td>0 days 00:11:10</td>\n",
       "      <td>2022-09-30</td>\n",
       "    </tr>\n",
       "    <tr>\n",
       "      <th>3</th>\n",
       "      <td>2022-09-30 21:00:00</td>\n",
       "      <td>捷運大湖公園站(2號出口)</td>\n",
       "      <td>2022-09-30 21:00:00</td>\n",
       "      <td>康樂綠地</td>\n",
       "      <td>0 days 00:29:07</td>\n",
       "      <td>2022-09-30</td>\n",
       "    </tr>\n",
       "    <tr>\n",
       "      <th>4</th>\n",
       "      <td>2022-09-30 22:00:00</td>\n",
       "      <td>捷運大湖公園站(2號出口)</td>\n",
       "      <td>2022-09-30 22:00:00</td>\n",
       "      <td>大湖國小</td>\n",
       "      <td>0 days 00:03:55</td>\n",
       "      <td>2022-09-30</td>\n",
       "    </tr>\n",
       "    <tr>\n",
       "      <th>...</th>\n",
       "      <td>...</td>\n",
       "      <td>...</td>\n",
       "      <td>...</td>\n",
       "      <td>...</td>\n",
       "      <td>...</td>\n",
       "      <td>...</td>\n",
       "    </tr>\n",
       "    <tr>\n",
       "      <th>2632271</th>\n",
       "      <td>2022-09-23 14:00:00</td>\n",
       "      <td>成功路四段41巷口</td>\n",
       "      <td>2022-09-23 15:00:00</td>\n",
       "      <td>宏匯瑞光廣場(瑞光路)</td>\n",
       "      <td>0 days 00:13:33</td>\n",
       "      <td>2022-09-23</td>\n",
       "    </tr>\n",
       "    <tr>\n",
       "      <th>2632272</th>\n",
       "      <td>2022-09-23 14:00:00</td>\n",
       "      <td>成功路四段41巷口</td>\n",
       "      <td>2022-09-23 15:00:00</td>\n",
       "      <td>星雲街47號</td>\n",
       "      <td>0 days 00:47:18</td>\n",
       "      <td>2022-09-23</td>\n",
       "    </tr>\n",
       "    <tr>\n",
       "      <th>2632273</th>\n",
       "      <td>2022-09-23 15:00:00</td>\n",
       "      <td>成功路四段41巷口</td>\n",
       "      <td>2022-09-23 15:00:00</td>\n",
       "      <td>康寧金湖路口</td>\n",
       "      <td>0 days 00:17:55</td>\n",
       "      <td>2022-09-23</td>\n",
       "    </tr>\n",
       "    <tr>\n",
       "      <th>2632274</th>\n",
       "      <td>2022-09-23 15:00:00</td>\n",
       "      <td>成功路四段41巷口</td>\n",
       "      <td>2022-09-23 16:00:00</td>\n",
       "      <td>南京東路六段368巷</td>\n",
       "      <td>0 days 00:18:43</td>\n",
       "      <td>2022-09-23</td>\n",
       "    </tr>\n",
       "    <tr>\n",
       "      <th>2632275</th>\n",
       "      <td>2022-09-23 17:00:00</td>\n",
       "      <td>成功路四段41巷口</td>\n",
       "      <td>2022-09-23 17:00:00</td>\n",
       "      <td>臺北市網球中心</td>\n",
       "      <td>0 days 00:15:49</td>\n",
       "      <td>2022-09-23</td>\n",
       "    </tr>\n",
       "  </tbody>\n",
       "</table>\n",
       "<p>2632276 rows × 6 columns</p>\n",
       "</div>"
      ],
      "text/plain": [
       "                  rent_time   rent_station         return_time return_station  \\\n",
       "0       2022-09-30 21:00:00  捷運大湖公園站(2號出口) 2022-09-30 21:00:00         安湖三號公園   \n",
       "1       2022-09-30 21:00:00  捷運大湖公園站(2號出口) 2022-09-30 21:00:00       康寧公園(北側)   \n",
       "2       2022-09-30 21:00:00  捷運大湖公園站(2號出口) 2022-09-30 21:00:00           大湖國小   \n",
       "3       2022-09-30 21:00:00  捷運大湖公園站(2號出口) 2022-09-30 21:00:00           康樂綠地   \n",
       "4       2022-09-30 22:00:00  捷運大湖公園站(2號出口) 2022-09-30 22:00:00           大湖國小   \n",
       "...                     ...            ...                 ...            ...   \n",
       "2632271 2022-09-23 14:00:00      成功路四段41巷口 2022-09-23 15:00:00    宏匯瑞光廣場(瑞光路)   \n",
       "2632272 2022-09-23 14:00:00      成功路四段41巷口 2022-09-23 15:00:00         星雲街47號   \n",
       "2632273 2022-09-23 15:00:00      成功路四段41巷口 2022-09-23 15:00:00         康寧金湖路口   \n",
       "2632274 2022-09-23 15:00:00      成功路四段41巷口 2022-09-23 16:00:00     南京東路六段368巷   \n",
       "2632275 2022-09-23 17:00:00      成功路四段41巷口 2022-09-23 17:00:00        臺北市網球中心   \n",
       "\n",
       "                   rent   infodate  \n",
       "0       0 days 00:12:27 2022-09-30  \n",
       "1       0 days 00:12:56 2022-09-30  \n",
       "2       0 days 00:11:10 2022-09-30  \n",
       "3       0 days 00:29:07 2022-09-30  \n",
       "4       0 days 00:03:55 2022-09-30  \n",
       "...                 ...        ...  \n",
       "2632271 0 days 00:13:33 2022-09-23  \n",
       "2632272 0 days 00:47:18 2022-09-23  \n",
       "2632273 0 days 00:17:55 2022-09-23  \n",
       "2632274 0 days 00:18:43 2022-09-23  \n",
       "2632275 0 days 00:15:49 2022-09-23  \n",
       "\n",
       "[2632276 rows x 6 columns]"
      ]
     },
     "execution_count": 5,
     "metadata": {},
     "output_type": "execute_result"
    }
   ],
   "source": [
    "df"
   ]
  },
  {
   "cell_type": "code",
   "execution_count": 25,
   "metadata": {},
   "outputs": [
    {
     "name": "stdout",
     "output_type": "stream",
     "text": [
      "<class 'pandas.core.frame.DataFrame'>\n",
      "RangeIndex: 2632276 entries, 0 to 2632275\n",
      "Data columns (total 6 columns):\n",
      " #   Column          Dtype          \n",
      "---  ------          -----          \n",
      " 0   rent_time       datetime64[ns] \n",
      " 1   rent_station    category       \n",
      " 2   return_time     datetime64[ns] \n",
      " 3   return_station  category       \n",
      " 4   rent            timedelta64[ns]\n",
      " 5   infodate        datetime64[ns] \n",
      "dtypes: category(2), datetime64[ns](3), timedelta64[ns](1)\n",
      "memory usage: 90.5 MB\n"
     ]
    }
   ],
   "source": [
    "df.info()"
   ]
  },
  {
   "cell_type": "markdown",
   "metadata": {},
   "source": [
    "# Play"
   ]
  },
  {
   "cell_type": "code",
   "execution_count": 5,
   "metadata": {},
   "outputs": [],
   "source": [
    "df = pl.read_csv('/Users/alexlo/Downloads/202209_YouBike2.0票證刷卡資料.csv')\n",
    "\n",
    "# dtale.show(df).open_browser()"
   ]
  },
  {
   "cell_type": "code",
   "execution_count": 25,
   "metadata": {},
   "outputs": [
    {
     "name": "stderr",
     "output_type": "stream",
     "text": [
      "/var/folders/5s/p2ld3_y17tl72_wk1fvbjpf40000gn/T/ipykernel_8741/4011912395.py:1: DeprecationWarning:\n",
      "\n",
      "`DataFrame.with_column` has been renamed; this redirect is temporary, please use `.with_columns` instead\n",
      "\n"
     ]
    },
    {
     "data": {
      "text/html": [
       "<div><style>\n",
       ".dataframe > thead > tr > th,\n",
       ".dataframe > tbody > tr > td {\n",
       "  text-align: right;\n",
       "}\n",
       "</style>\n",
       "<small>shape: (10, 7)</small><table border=\"1\" class=\"dataframe\"><thead><tr><th>rent_time</th><th>rent_station</th><th>return_time</th><th>return_station</th><th>rent</th><th>infodate</th><th>rent_station_cat</th></tr><tr><td>str</td><td>str</td><td>str</td><td>str</td><td>str</td><td>str</td><td>cat</td></tr></thead><tbody><tr><td>&quot;2022-09-30 21:...</td><td>&quot;捷運大湖公園站(2號出口)&quot;</td><td>&quot;2022-09-30 21:...</td><td>&quot;安湖三號公園&quot;</td><td>&quot;00:12:27&quot;</td><td>&quot;2022-09-30&quot;</td><td>&quot;捷運大湖公園站(2號出口)&quot;</td></tr><tr><td>&quot;2022-09-30 21:...</td><td>&quot;捷運大湖公園站(2號出口)&quot;</td><td>&quot;2022-09-30 21:...</td><td>&quot;康寧公園(北側)&quot;</td><td>&quot;00:12:56&quot;</td><td>&quot;2022-09-30&quot;</td><td>&quot;捷運大湖公園站(2號出口)&quot;</td></tr><tr><td>&quot;2022-09-30 21:...</td><td>&quot;捷運大湖公園站(2號出口)&quot;</td><td>&quot;2022-09-30 21:...</td><td>&quot;大湖國小&quot;</td><td>&quot;00:11:10&quot;</td><td>&quot;2022-09-30&quot;</td><td>&quot;捷運大湖公園站(2號出口)&quot;</td></tr><tr><td>&quot;2022-09-30 21:...</td><td>&quot;捷運大湖公園站(2號出口)&quot;</td><td>&quot;2022-09-30 21:...</td><td>&quot;康樂綠地&quot;</td><td>&quot;00:29:07&quot;</td><td>&quot;2022-09-30&quot;</td><td>&quot;捷運大湖公園站(2號出口)&quot;</td></tr><tr><td>&quot;2022-09-30 22:...</td><td>&quot;捷運大湖公園站(2號出口)&quot;</td><td>&quot;2022-09-30 22:...</td><td>&quot;大湖國小&quot;</td><td>&quot;00:03:55&quot;</td><td>&quot;2022-09-30&quot;</td><td>&quot;捷運大湖公園站(2號出口)&quot;</td></tr><tr><td>&quot;2022-09-30 22:...</td><td>&quot;捷運大湖公園站(2號出口)&quot;</td><td>&quot;2022-09-30 22:...</td><td>&quot;大湖國小&quot;</td><td>&quot;00:03:48&quot;</td><td>&quot;2022-09-30&quot;</td><td>&quot;捷運大湖公園站(2號出口)&quot;</td></tr><tr><td>&quot;2022-09-30 22:...</td><td>&quot;捷運大湖公園站(2號出口)&quot;</td><td>&quot;2022-09-30 22:...</td><td>&quot;大湖國小&quot;</td><td>&quot;00:03:48&quot;</td><td>&quot;2022-09-30&quot;</td><td>&quot;捷運大湖公園站(2號出口)&quot;</td></tr><tr><td>&quot;2022-09-30 22:...</td><td>&quot;捷運大湖公園站(2號出口)&quot;</td><td>&quot;2022-09-30 22:...</td><td>&quot;大湖國小&quot;</td><td>&quot;00:05:56&quot;</td><td>&quot;2022-09-30&quot;</td><td>&quot;捷運大湖公園站(2號出口)&quot;</td></tr><tr><td>&quot;2022-09-30 22:...</td><td>&quot;捷運大湖公園站(2號出口)&quot;</td><td>&quot;2022-09-30 22:...</td><td>&quot;大湖國小&quot;</td><td>&quot;00:06:01&quot;</td><td>&quot;2022-09-30&quot;</td><td>&quot;捷運大湖公園站(2號出口)&quot;</td></tr><tr><td>&quot;2022-09-30 22:...</td><td>&quot;捷運大湖公園站(2號出口)&quot;</td><td>&quot;2022-09-30 22:...</td><td>&quot;大湖國小&quot;</td><td>&quot;00:05:51&quot;</td><td>&quot;2022-09-30&quot;</td><td>&quot;捷運大湖公園站(2號出口)&quot;</td></tr></tbody></table></div>"
      ],
      "text/plain": [
       "shape: (10, 7)\n",
       "┌──────────────┬──────────────┬──────────────┬──────────────┬──────────┬────────────┬──────────────┐\n",
       "│ rent_time    ┆ rent_station ┆ return_time  ┆ return_stati ┆ rent     ┆ infodate   ┆ rent_station │\n",
       "│ ---          ┆ ---          ┆ ---          ┆ on           ┆ ---      ┆ ---        ┆ _cat         │\n",
       "│ str          ┆ str          ┆ str          ┆ ---          ┆ str      ┆ str        ┆ ---          │\n",
       "│              ┆              ┆              ┆ str          ┆          ┆            ┆ cat          │\n",
       "╞══════════════╪══════════════╪══════════════╪══════════════╪══════════╪════════════╪══════════════╡\n",
       "│ 2022-09-30   ┆ 捷運大湖公園 ┆ 2022-09-30   ┆ 安湖三號公園 ┆ 00:12:27 ┆ 2022-09-30 ┆ 捷運大湖公園 │\n",
       "│ 21:00:00     ┆ 站(2號出口)  ┆ 21:00:00     ┆              ┆          ┆            ┆ 站(2號出口)  │\n",
       "│ 2022-09-30   ┆ 捷運大湖公園 ┆ 2022-09-30   ┆ 康寧公園(北  ┆ 00:12:56 ┆ 2022-09-30 ┆ 捷運大湖公園 │\n",
       "│ 21:00:00     ┆ 站(2號出口)  ┆ 21:00:00     ┆ 側)          ┆          ┆            ┆ 站(2號出口)  │\n",
       "│ 2022-09-30   ┆ 捷運大湖公園 ┆ 2022-09-30   ┆ 大湖國小     ┆ 00:11:10 ┆ 2022-09-30 ┆ 捷運大湖公園 │\n",
       "│ 21:00:00     ┆ 站(2號出口)  ┆ 21:00:00     ┆              ┆          ┆            ┆ 站(2號出口)  │\n",
       "│ 2022-09-30   ┆ 捷運大湖公園 ┆ 2022-09-30   ┆ 康樂綠地     ┆ 00:29:07 ┆ 2022-09-30 ┆ 捷運大湖公園 │\n",
       "│ 21:00:00     ┆ 站(2號出口)  ┆ 21:00:00     ┆              ┆          ┆            ┆ 站(2號出口)  │\n",
       "│ ...          ┆ ...          ┆ ...          ┆ ...          ┆ ...      ┆ ...        ┆ ...          │\n",
       "│ 2022-09-30   ┆ 捷運大湖公園 ┆ 2022-09-30   ┆ 大湖國小     ┆ 00:03:48 ┆ 2022-09-30 ┆ 捷運大湖公園 │\n",
       "│ 22:00:00     ┆ 站(2號出口)  ┆ 22:00:00     ┆              ┆          ┆            ┆ 站(2號出口)  │\n",
       "│ 2022-09-30   ┆ 捷運大湖公園 ┆ 2022-09-30   ┆ 大湖國小     ┆ 00:05:56 ┆ 2022-09-30 ┆ 捷運大湖公園 │\n",
       "│ 22:00:00     ┆ 站(2號出口)  ┆ 22:00:00     ┆              ┆          ┆            ┆ 站(2號出口)  │\n",
       "│ 2022-09-30   ┆ 捷運大湖公園 ┆ 2022-09-30   ┆ 大湖國小     ┆ 00:06:01 ┆ 2022-09-30 ┆ 捷運大湖公園 │\n",
       "│ 22:00:00     ┆ 站(2號出口)  ┆ 22:00:00     ┆              ┆          ┆            ┆ 站(2號出口)  │\n",
       "│ 2022-09-30   ┆ 捷運大湖公園 ┆ 2022-09-30   ┆ 大湖國小     ┆ 00:05:51 ┆ 2022-09-30 ┆ 捷運大湖公園 │\n",
       "│ 22:00:00     ┆ 站(2號出口)  ┆ 22:00:00     ┆              ┆          ┆            ┆ 站(2號出口)  │\n",
       "└──────────────┴──────────────┴──────────────┴──────────────┴──────────┴────────────┴──────────────┘"
      ]
     },
     "execution_count": 25,
     "metadata": {},
     "output_type": "execute_result"
    }
   ],
   "source": [
    "df = df.with_column(pl.col('rent_station').cast(pl.Categorical, strict=False).alias('rent_station_cat'))\n",
    "df.head(10)"
   ]
  },
  {
   "cell_type": "code",
   "execution_count": 29,
   "metadata": {},
   "outputs": [
    {
     "data": {
      "text/html": [
       "<div><style>\n",
       ".dataframe > thead > tr > th,\n",
       ".dataframe > tbody > tr > td {\n",
       "  text-align: right;\n",
       "}\n",
       "</style>\n",
       "<small>shape: (1174, 2)</small><table border=\"1\" class=\"dataframe\"><thead><tr><th>rent_station_cat</th><th>rent_count</th></tr><tr><td>cat</td><td>u32</td></tr></thead><tbody><tr><td>&quot;捷運公館站(2號出口)&quot;</td><td>37359</td></tr><tr><td>&quot;捷運科技大樓站&quot;</td><td>15648</td></tr><tr><td>&quot;捷運中山國中站&quot;</td><td>13517</td></tr><tr><td>&quot;捷運國父紀念館站(2號出口)...</td><td>12701</td></tr><tr><td>&quot;捷運劍潭站(2號出口)&quot;</td><td>12603</td></tr><tr><td>&quot;臺北醫學大學&quot;</td><td>11695</td></tr><tr><td>&quot;捷運六張犁站&quot;</td><td>11480</td></tr><tr><td>&quot;臺大小福樓東側&quot;</td><td>11305</td></tr><tr><td>&quot;捷運行天宮站(3號出口)&quot;</td><td>11285</td></tr><tr><td>&quot;捷運永春站(2號出口)&quot;</td><td>11115</td></tr><tr><td>&quot;捷運市政府站(3號出口)&quot;</td><td>11018</td></tr><tr><td>&quot;捷運東門站(5號出口)&quot;</td><td>10975</td></tr><tr><td>...</td><td>...</td></tr><tr><td>&quot;潭美公園(南京東路六段368...</td><td>96</td></tr><tr><td>&quot;安泰街(康樂橋下)&quot;</td><td>90</td></tr><tr><td>&quot;民權東路六段190巷117弄...</td><td>83</td></tr><tr><td>&quot;福安國中&quot;</td><td>70</td></tr><tr><td>&quot;福國承德路口&quot;</td><td>69</td></tr><tr><td>&quot;行善路383巷&quot;</td><td>31</td></tr><tr><td>&quot;內湖路三段326巷口&quot;</td><td>26</td></tr><tr><td>&quot;內湖運動公園&quot;</td><td>25</td></tr><tr><td>&quot;海光公園南側&quot;</td><td>24</td></tr><tr><td>&quot;忠孝東路六段278巷口&quot;</td><td>16</td></tr><tr><td>&quot;信義松德路口&quot;</td><td>12</td></tr><tr><td>&quot;臺大卓越維修中心&quot;</td><td>2</td></tr></tbody></table></div>"
      ],
      "text/plain": [
       "shape: (1174, 2)\n",
       "┌───────────────────────────┬────────────┐\n",
       "│ rent_station_cat          ┆ rent_count │\n",
       "│ ---                       ┆ ---        │\n",
       "│ cat                       ┆ u32        │\n",
       "╞═══════════════════════════╪════════════╡\n",
       "│ 捷運公館站(2號出口)       ┆ 37359      │\n",
       "│ 捷運科技大樓站            ┆ 15648      │\n",
       "│ 捷運中山國中站            ┆ 13517      │\n",
       "│ 捷運國父紀念館站(2號出口) ┆ 12701      │\n",
       "│ ...                       ┆ ...        │\n",
       "│ 海光公園南側              ┆ 24         │\n",
       "│ 忠孝東路六段278巷口       ┆ 16         │\n",
       "│ 信義松德路口              ┆ 12         │\n",
       "│ 臺大卓越維修中心          ┆ 2          │\n",
       "└───────────────────────────┴────────────┘"
      ]
     },
     "execution_count": 29,
     "metadata": {},
     "output_type": "execute_result"
    }
   ],
   "source": [
    "(df\n",
    "    .groupby('rent_station_cat')\n",
    "    .agg(pl.col('rent').count().alias('rent_count'))\n",
    "    .sort(pl.col('rent_count'), descending=True)\n",
    ")"
   ]
  },
  {
   "cell_type": "code",
   "execution_count": null,
   "metadata": {},
   "outputs": [],
   "source": []
  }
 ],
 "metadata": {
  "kernelspec": {
   "display_name": "Python 3",
   "language": "python",
   "name": "python3"
  },
  "language_info": {
   "codemirror_mode": {
    "name": "ipython",
    "version": 3
   },
   "file_extension": ".py",
   "mimetype": "text/x-python",
   "name": "python",
   "nbconvert_exporter": "python",
   "pygments_lexer": "ipython3",
   "version": "3.11.2"
  },
  "orig_nbformat": 4
 },
 "nbformat": 4,
 "nbformat_minor": 2
}
